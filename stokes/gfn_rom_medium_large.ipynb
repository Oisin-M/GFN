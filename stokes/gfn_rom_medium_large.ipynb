{
 "cells": [
  {
   "cell_type": "markdown",
   "id": "d18472d4",
   "metadata": {},
   "source": [
    "# GFN-ROM\n",
    "\n",
    "This notebook trains the GFN-ROM model and evaluates the performance."
   ]
  },
  {
   "cell_type": "markdown",
   "id": "bda34993",
   "metadata": {},
   "source": [
    "# Imports"
   ]
  },
  {
   "cell_type": "code",
   "execution_count": 1,
   "id": "aaca74e4",
   "metadata": {},
   "outputs": [],
   "source": [
    "import torch\n",
    "from torch import nn\n",
    "import numpy as np\n",
    "import time\n",
    "from torchinfo import summary\n",
    "\n",
    "import sys\n",
    "sys.path.append(\"..\")\n",
    "from gfn_rom import pde, defaults, preprocessing, initialisation, gfn_rom, train, test, plotting"
   ]
  },
  {
   "cell_type": "markdown",
   "id": "7d9055c8",
   "metadata": {},
   "source": [
    "# Hyperparameter and Problem Setup"
   ]
  },
  {
   "cell_type": "code",
   "execution_count": 2,
   "id": "bfff03e8",
   "metadata": {},
   "outputs": [],
   "source": [
    "pname = 'stokes'\n",
    "\n",
    "# training and test fidelities\n",
    "train_fidelities = ['medium', 'large']\n",
    "test_fidelities = ['large', 'medium', 'small', 'tiny']\n",
    "\n",
    "# Naming convention for saving the model\n",
    "save_name = ''.join(train_fidelities)"
   ]
  },
  {
   "cell_type": "code",
   "execution_count": 3,
   "id": "41bc5a3e",
   "metadata": {},
   "outputs": [
    {
     "name": "stdout",
     "output_type": "stream",
     "text": [
      "reconstruction error tensor(2.9014e-27)\n",
      "reconstruction error tensor(9.3287e-27)\n",
      "reconstruction error tensor(9.3287e-27)\n",
      "reconstruction error tensor(2.9014e-27)\n",
      "reconstruction error tensor(9.7520e-28)\n",
      "reconstruction error tensor(3.4523e-28)\n"
     ]
    }
   ],
   "source": [
    "dev = initialisation.set_device()\n",
    "initialisation.set_precision(defaults.precision)\n",
    "initialisation.create_directories()\n",
    "params = torch.tensor(pde.params(pname)).to(dev)\n",
    "np.random.seed(defaults.split_seed)\n",
    "train_trajs, test_trajs = preprocessing.train_test_split(params, len(train_fidelities), defaults.rate)\n",
    "meshes_train, sols_train, meshes_test, sols_test = preprocessing.load_and_process_datasets(train_fidelities, test_fidelities)\n",
    "sols_train = [x.to(dev) for x in sols_train]\n",
    "initialisation.set_seed(defaults.seed)\n",
    "start_mesh = sorted(meshes_train, key=lambda x: x.shape[0])[-1]\n",
    "update_master = defaults.mode == 'adapt'"
   ]
  },
  {
   "cell_type": "markdown",
   "id": "e8c5ba89",
   "metadata": {},
   "source": [
    "# Model Initialisation"
   ]
  },
  {
   "cell_type": "code",
   "execution_count": 4,
   "id": "23fa4daa",
   "metadata": {},
   "outputs": [
    {
     "name": "stdout",
     "output_type": "stream",
     "text": [
      "(7019, 2)\n",
      "(7019, 2)\n"
     ]
    }
   ],
   "source": [
    "model = gfn_rom.GFN_ROM(start_mesh, defaults.N_basis_factor, params.shape[1], defaults.act, defaults.ae_sizes, defaults.mapper_sizes).to(dev)\n",
    "print(model.GFN.mesh_m.shape)\n",
    "\n",
    "# We do all of the possible expansions apriori in the preadaptive case\n",
    "# This is a preprocessing step so we don't do any speedup steps here\n",
    "if defaults.mode=='preadapt':\n",
    "    count = np.inf\n",
    "    while count!=0:\n",
    "        count = 0\n",
    "        for mesh_n in meshes_train:\n",
    "            n_exp, n_agg = model.GFN.reshape_weights(mesh_n, update_master=True)\n",
    "            count += n_exp\n",
    "    print(model.GFN.mesh_m.shape)"
   ]
  },
  {
   "cell_type": "code",
   "execution_count": 5,
   "id": "242dd65e",
   "metadata": {},
   "outputs": [
    {
     "data": {
      "text/plain": [
       "=================================================================\n",
       "Layer (type:depth-idx)                   Param #\n",
       "=================================================================\n",
       "GFN_ROM                                  --\n",
       "├─GFN_AE: 1-1                            2,814,819\n",
       "├─Tanh: 1-2                              --\n",
       "├─Sequential: 1-3                        --\n",
       "│    └─Linear: 2-1                       2,010\n",
       "│    └─Tanh: 2-2                         --\n",
       "├─Sequential: 1-4                        --\n",
       "│    └─Linear: 2-3                       2,200\n",
       "│    └─Tanh: 2-4                         --\n",
       "├─Sequential: 1-5                        --\n",
       "│    └─Linear: 2-5                       400\n",
       "│    └─Tanh: 2-6                         --\n",
       "│    └─Linear: 2-7                       2,550\n",
       "│    └─Tanh: 2-8                         --\n",
       "│    └─Linear: 2-9                       2,550\n",
       "│    └─Tanh: 2-10                        --\n",
       "│    └─Linear: 2-11                      2,550\n",
       "│    └─Tanh: 2-12                        --\n",
       "│    └─Linear: 2-13                      510\n",
       "=================================================================\n",
       "Total params: 2,827,589\n",
       "Trainable params: 2,827,589\n",
       "Non-trainable params: 0\n",
       "================================================================="
      ]
     },
     "execution_count": 5,
     "metadata": {},
     "output_type": "execute_result"
    }
   ],
   "source": [
    "summary(model)"
   ]
  },
  {
   "cell_type": "code",
   "execution_count": 6,
   "id": "834c95b7",
   "metadata": {},
   "outputs": [],
   "source": [
    "if not update_master:\n",
    "    opt = torch.optim.Adam(model.parameters(), lr=defaults.lr, weight_decay=defaults.lambda_)\n",
    "else:\n",
    "    # Cannot update GFN parameters using Adam anymore since we use adaptive method\n",
    "    # and weights can change shape at each iteration\n",
    "    # Similarly, cannot use momentum\n",
    "    opt = torch.optim.SGD(model.parameters(), lr=defaults.lr, weight_decay=defaults.lambda_)"
   ]
  },
  {
   "cell_type": "markdown",
   "id": "d40bd139",
   "metadata": {},
   "source": [
    "# Training"
   ]
  },
  {
   "cell_type": "code",
   "execution_count": 7,
   "id": "a04e245d",
   "metadata": {},
   "outputs": [
    {
     "name": "stdout",
     "output_type": "stream",
     "text": [
      "Training network\n"
     ]
    },
    {
     "name": "stderr",
     "output_type": "stream",
     "text": [
      "100%|██████████| 5000/5000 [7:30:39<00:00,  5.41s/it, Loss(training)=0.00646, Loss(testing)=0.118]   \n"
     ]
    },
    {
     "name": "stdout",
     "output_type": "stream",
     "text": [
      "Time elapsed =  27039.962203502655\n"
     ]
    },
    {
     "data": {
      "image/png": "[encoded data removed]",
      "text/plain": [
       "<Figure size 640x480 with 1 Axes>"
      ]
     },
     "metadata": {},
     "output_type": "display_data"
    }
   ],
   "source": [
    "try:\n",
    "    model.load_state_dict(torch.load(\"models/best_model\"+save_name+\".pt\"))\n",
    "    print(\"Loading saved network\")\n",
    "except FileNotFoundError:\n",
    "    print(\"Training network\")\n",
    "    start = time.time()\n",
    "    train_losses, test_losses = train.train(model, opt, meshes_train, sols_train, params, train_trajs, test_trajs, update_master, defaults.epochs, defaults.mapper_weight, save_name)\n",
    "    end = time.time() - start\n",
    "    print(f\"Time elapsed = \", end)\n",
    "    model.load_state_dict(torch.load(\"models/best_model_\"+save_name+\".pt\"))\n",
    "    plotting.plot_losses(train_losses, test_losses, save_name)"
   ]
  },
  {
   "cell_type": "markdown",
   "id": "fc201167",
   "metadata": {},
   "source": [
    "# Testing"
   ]
  },
  {
   "cell_type": "code",
   "execution_count": 8,
   "id": "d7c70583",
   "metadata": {},
   "outputs": [
    {
     "name": "stdout",
     "output_type": "stream",
     "text": [
      "----------------------------------------\n",
      "TEST MESH: large\n",
      "\n",
      "Maximum relative error for latent  =  0.7137150035673983\n",
      "Mean relative error for latent =  0.1219867385888775\n",
      "Minimum relative error for latent =  0.007197755695289892\n",
      "\n",
      "Maximum absolute error for field  =  8.292340756025421\n",
      "Mean absolute error for field  =  2.681057677045258\n",
      "Minimum absolute error for field  =  0.8361958120701245\n",
      "\n",
      "Maximum relative error for field  =  0.09993429824723869\n",
      "Mean relative error for field  =  0.036349053216453056\n",
      "Minimum relative error for field  =  0.01290899619589492\n",
      "\n",
      "----------------------------------------\n",
      "TEST MESH: medium\n",
      "\n",
      "Maximum relative error for latent  =  0.6773252684983277\n",
      "Mean relative error for latent =  0.11904228706870831\n",
      "Minimum relative error for latent =  0.008123012302029248\n",
      "\n",
      "Maximum absolute error for field  =  4.6229981076338404\n",
      "Mean absolute error for field  =  1.498207050798778\n",
      "Minimum absolute error for field  =  0.4971970290759741\n",
      "\n",
      "Maximum relative error for field  =  0.09941496043911592\n",
      "Mean relative error for field  =  0.03619276049837062\n",
      "Minimum relative error for field  =  0.015181292927869103\n",
      "\n",
      "----------------------------------------\n",
      "TEST MESH: small\n",
      "\n",
      "Maximum relative error for latent  =  0.6778257743605184\n",
      "Mean relative error for latent =  0.1272143676807183\n",
      "Minimum relative error for latent =  0.00806745887278235\n",
      "\n",
      "Maximum absolute error for field  =  2.635178102633204\n",
      "Mean absolute error for field  =  0.9233727077813956\n",
      "Minimum absolute error for field  =  0.3308554902422955\n",
      "\n",
      "Maximum relative error for field  =  0.09928055928002927\n",
      "Mean relative error for field  =  0.038762036622690454\n",
      "Minimum relative error for field  =  0.017536200728650746\n",
      "\n",
      "----------------------------------------\n",
      "TEST MESH: tiny\n",
      "\n",
      "Maximum relative error for latent  =  0.7240958490274118\n",
      "Mean relative error for latent =  0.15199734136536208\n",
      "Minimum relative error for latent =  0.009207634925183006\n",
      "\n",
      "Maximum absolute error for field  =  1.5339160010390185\n",
      "Mean absolute error for field  =  0.6279390124464642\n",
      "Minimum absolute error for field  =  0.2497796523133231\n",
      "\n",
      "Maximum relative error for field  =  0.11925075180602684\n",
      "Mean relative error for field  =  0.04471785860524706\n",
      "Minimum relative error for field  =  0.023894574196663167\n",
      "\n"
     ]
    },
    {
     "ename": "",
     "evalue": "",
     "output_type": "error",
     "traceback": [
      "\u001b[1;31mThe Kernel crashed while executing code in the current cell or a previous cell. \n",
      "\u001b[1;31mPlease review the code in the cell(s) to identify a possible cause of the failure. \n",
      "\u001b[1;31mClick <a href='https://aka.ms/vscodeJupyterKernelCrash'>here</a> for more info. \n",
      "\u001b[1;31mView Jupyter <a href='command:jupyter.viewOutput'>log</a> for further details."
     ]
    }
   ],
   "source": [
    "for i in range(len(test_fidelities)):\n",
    "    \n",
    "    print('-'*40)\n",
    "    print(f'TEST MESH: {test_fidelities[i]}')\n",
    "    \n",
    "    scale, U = sols_test[i]\n",
    "    U = U.to('cpu')\n",
    "    mesh = meshes_test[i]\n",
    "\n",
    "    model.eval()\n",
    "    model.to('cpu')\n",
    "    \n",
    "    Z, Z_net, x_enc, x_map = test.evaluate_results(model, mesh, U, scale, params.to('cpu'))\n",
    "    error = abs(Z - Z_net)\n",
    "    error, rel_error = test.print_results(Z, Z_net, x_enc, x_map)\n",
    "\n",
    "    np.savetxt('errors/relative_errors_train'+save_name+'_test'+test_fidelities[i]+'.txt', [max(rel_error), sum(rel_error)/len(rel_error), min(rel_error)])\n",
    "    print()"
   ]
  }
 ],
 "metadata": {
  "kernelspec": {
   "display_name": "Python 3 (ipykernel)",
   "language": "python",
   "name": "python3"
  },
  "language_info": {
   "codemirror_mode": {
    "name": "ipython",
    "version": 3
   },
   "file_extension": ".py",
   "mimetype": "text/x-python",
   "name": "python",
   "nbconvert_exporter": "python",
   "pygments_lexer": "ipython3",
   "version": "3.10.14"
  }
 },
 "nbformat": 4,
 "nbformat_minor": 5
}
