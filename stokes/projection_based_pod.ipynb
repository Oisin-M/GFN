{
 "cells": [
  {
   "cell_type": "markdown",
   "id": "9bfeda38",
   "metadata": {},
   "source": [
    "# Intrusive Projection-Based POD\n",
    "\n",
    "The code for the generation of the approximation of the high-fidelity solutions is provided in `data/data_generation.ipynb` for:\n",
    "- Galerkin-POD (stored in `data/reduced_matrix.npy`)\n",
    "- Projection onto reduced basis (stored in `data/reduced_proj_matrix.npy`)\n",
    "\n",
    "This notebook computes the mean absolute and relative errors of these methods."
   ]
  },
  {
   "cell_type": "markdown",
   "id": "c37edf52",
   "metadata": {},
   "source": [
    "## Find Performances of Intrusive POD-Based Methods\n",
    "\n",
    "We are interested in the absolute and mean relative errors of the speed i.e. magnitude of the velocity $|\\boldsymbol{u}|$."
   ]
  },
  {
   "cell_type": "code",
   "execution_count": 1,
   "id": "dfeef99d",
   "metadata": {},
   "outputs": [],
   "source": [
    "import numpy as np"
   ]
  },
  {
   "cell_type": "code",
   "execution_count": 2,
   "id": "24938bcb",
   "metadata": {},
   "outputs": [],
   "source": [
    "snapshot_matrix = np.load(\"./data/velocity_snapshot_matrix_large.npy\")\n",
    "reduced_proj_matrix = np.load(\"./data/reduced_proj_matrix.npy\")\n",
    "reduced_matrix = np.load(\"./data/reduced_matrix.npy\")"
   ]
  },
  {
   "cell_type": "code",
   "execution_count": 3,
   "id": "02e35252",
   "metadata": {},
   "outputs": [],
   "source": [
    "def print_results(Z, Z_approx):\n",
    "    # compute |u| for each parameter and location\n",
    "    Z = np.sqrt(np.sum(Z**2, axis=2)).T\n",
    "    Z_approx = np.sqrt(np.sum(Z_approx**2, axis=2)).T\n",
    "    \n",
    "    error_abs_list = list()\n",
    "    norm_z_list = list()\n",
    "    # for each parameter, find the error and norm\n",
    "    for snap in range(Z.shape[1]):\n",
    "        error_abs = np.linalg.norm(abs(Z[:, snap] - Z_approx[:, snap]))\n",
    "        norm_z = np.linalg.norm(Z[:, snap], 2)\n",
    "        error_abs_list.append(error_abs)\n",
    "        norm_z_list.append(norm_z)\n",
    "    \n",
    "    # compute overall error metrics and print\n",
    "    error = np.array(error_abs_list)\n",
    "    norm = np.array(norm_z_list)\n",
    "    rel_error = error/norm\n",
    "    print(\"\\nMaximum absolute error for field \"+\" = \", max(error))\n",
    "    print(\"Mean absolute error for field \"+\" = \", sum(error)/len(error))\n",
    "    print(\"Minimum absolute error for field \"+\" = \", min(error))\n",
    "    print(\"\\nMaximum relative error for field \"+\" = \", max(rel_error))\n",
    "    print(\"Mean relative error for field \"+\" = \", sum(rel_error)/len(rel_error))\n",
    "    print(\"Minimum relative error for field \"+\" = \", min(rel_error))"
   ]
  },
  {
   "cell_type": "code",
   "execution_count": 4,
   "id": "f9d48b29",
   "metadata": {},
   "outputs": [
    {
     "name": "stdout",
     "output_type": "stream",
     "text": [
      "--- POD-Galerkin ---\n",
      "\n",
      "\n",
      "Maximum absolute error for field  =  4.057942932305662\n",
      "Mean absolute error for field  =  1.764564330835514\n",
      "Minimum absolute error for field  =  0.6570429677171037\n",
      "\n",
      "Maximum relative error for field  =  0.058334749064469955\n",
      "Mean relative error for field  =  0.024509732810116727\n",
      "Minimum relative error for field  =  0.005539729611634999\n"
     ]
    }
   ],
   "source": [
    "print(\"--- POD-Galerkin ---\\n\")\n",
    "print_results(snapshot_matrix, reduced_matrix)"
   ]
  },
  {
   "cell_type": "code",
   "execution_count": 5,
   "id": "b6626b66",
   "metadata": {},
   "outputs": [
    {
     "name": "stdout",
     "output_type": "stream",
     "text": [
      "--- Projection of HF Solutions onto Reduced Space ---\n",
      "\n",
      "\n",
      "Maximum absolute error for field  =  5.8110572920520775\n",
      "Mean absolute error for field  =  1.8582383249227044\n",
      "Minimum absolute error for field  =  0.8090807889983718\n",
      "\n",
      "Maximum relative error for field  =  0.05569473437918719\n",
      "Mean relative error for field  =  0.024471161384693497\n",
      "Minimum relative error for field  =  0.005578946126994952\n"
     ]
    }
   ],
   "source": [
    "print(\"--- Projection of HF Solutions onto Reduced Space ---\\n\")\n",
    "print_results(snapshot_matrix, reduced_proj_matrix)"
   ]
  }
 ],
 "metadata": {
  "kernelspec": {
   "display_name": "Python 3 (ipykernel)",
   "language": "python",
   "name": "python3"
  },
  "language_info": {
   "codemirror_mode": {
    "name": "ipython",
    "version": 3
   },
   "file_extension": ".py",
   "mimetype": "text/x-python",
   "name": "python",
   "nbconvert_exporter": "python",
   "pygments_lexer": "ipython3",
   "version": "3.10.11"
  }
 },
 "nbformat": 4,
 "nbformat_minor": 5
}
