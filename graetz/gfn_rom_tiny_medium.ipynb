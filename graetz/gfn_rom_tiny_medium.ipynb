{
 "cells": [
  {
   "cell_type": "markdown",
   "id": "d18472d4",
   "metadata": {},
   "source": [
    "# GFN-ROM\n",
    "\n",
    "This notebook trains the GFN-ROM model and evaluates the performance."
   ]
  },
  {
   "cell_type": "markdown",
   "id": "bda34993",
   "metadata": {},
   "source": [
    "# Imports"
   ]
  },
  {
   "cell_type": "code",
   "execution_count": 1,
   "id": "aaca74e4",
   "metadata": {},
   "outputs": [],
   "source": [
    "import torch\n",
    "from torch import nn\n",
    "import numpy as np\n",
    "import time\n",
    "from torchinfo import summary\n",
    "\n",
    "import sys\n",
    "sys.path.append(\"..\")\n",
    "from gfn_rom import pde, defaults, preprocessing, initialisation, gfn_rom, train, test, plotting"
   ]
  },
  {
   "cell_type": "markdown",
   "id": "7d9055c8",
   "metadata": {},
   "source": [
    "# Hyperparameter and Problem Setup"
   ]
  },
  {
   "cell_type": "code",
   "execution_count": 2,
   "id": "bfff03e8",
   "metadata": {},
   "outputs": [],
   "source": [
    "pname = 'graetz'\n",
    "\n",
    "# training and test fidelities\n",
    "train_fidelities = ['tiny', 'medium']\n",
    "test_fidelities = ['large', 'medium', 'small', 'tiny']\n",
    "\n",
    "# Naming convention for saving the model\n",
    "save_name = ''.join(train_fidelities)"
   ]
  },
  {
   "cell_type": "code",
   "execution_count": 3,
   "id": "41bc5a3e",
   "metadata": {},
   "outputs": [
    {
     "name": "stdout",
     "output_type": "stream",
     "text": [
      "reconstruction error tensor(6.0633e-29)\n",
      "reconstruction error tensor(5.5356e-28)\n",
      "reconstruction error tensor(1.7193e-27)\n",
      "reconstruction error tensor(5.5356e-28)\n",
      "reconstruction error tensor(1.6717e-28)\n",
      "reconstruction error tensor(6.0633e-29)\n"
     ]
    }
   ],
   "source": [
    "dev = initialisation.set_device()\n",
    "initialisation.set_precision(defaults.precision)\n",
    "initialisation.create_directories()\n",
    "params = torch.tensor(pde.params(pname)).to(dev)\n",
    "np.random.seed(defaults.split_seed)\n",
    "train_trajs, test_trajs = preprocessing.train_test_split(params, len(train_fidelities), defaults.rate)\n",
    "meshes_train, sols_train, meshes_test, sols_test = preprocessing.load_and_process_datasets(train_fidelities, test_fidelities)\n",
    "sols_train = [x.to(dev) for x in sols_train]\n",
    "initialisation.set_seed(defaults.seed)\n",
    "start_mesh = sorted(meshes_train, key=lambda x: x.shape[0])[-1]\n",
    "update_master = defaults.mode == 'adapt'"
   ]
  },
  {
   "cell_type": "markdown",
   "id": "e8c5ba89",
   "metadata": {},
   "source": [
    "# Model Initialisation"
   ]
  },
  {
   "cell_type": "code",
   "execution_count": 4,
   "id": "23fa4daa",
   "metadata": {},
   "outputs": [
    {
     "name": "stdout",
     "output_type": "stream",
     "text": [
      "(2248, 2)\n",
      "(2248, 2)\n"
     ]
    }
   ],
   "source": [
    "model = gfn_rom.GFN_ROM(start_mesh, defaults.N_basis_factor, params.shape[1], defaults.act, defaults.ae_sizes, defaults.mapper_sizes).to(dev)\n",
    "print(model.GFN.mesh_m.shape)\n",
    "\n",
    "# We do all of the possible expansions apriori in the preadaptive case\n",
    "# This is a preprocessing step so we don't do any speedup steps here\n",
    "if defaults.mode=='preadapt':\n",
    "    count = np.inf\n",
    "    while count!=0:\n",
    "        count = 0\n",
    "        for mesh_n in meshes_train:\n",
    "            n_exp, n_agg = model.GFN.reshape_weights(mesh_n, update_master=True)\n",
    "            count += n_exp\n",
    "    print(model.GFN.mesh_m.shape)"
   ]
  },
  {
   "cell_type": "code",
   "execution_count": 5,
   "id": "242dd65e",
   "metadata": {},
   "outputs": [
    {
     "data": {
      "text/plain": [
       "=================================================================\n",
       "Layer (type:depth-idx)                   Param #\n",
       "=================================================================\n",
       "GFN_ROM                                  --\n",
       "├─GFN_AE: 1-1                            901,648\n",
       "├─Tanh: 1-2                              --\n",
       "├─Sequential: 1-3                        --\n",
       "│    └─Linear: 2-1                       603\n",
       "│    └─Tanh: 2-2                         --\n",
       "├─Sequential: 1-4                        --\n",
       "│    └─Linear: 2-3                       800\n",
       "│    └─Tanh: 2-4                         --\n",
       "├─Sequential: 1-5                        --\n",
       "│    └─Linear: 2-5                       150\n",
       "│    └─Tanh: 2-6                         --\n",
       "│    └─Linear: 2-7                       2,550\n",
       "│    └─Tanh: 2-8                         --\n",
       "│    └─Linear: 2-9                       2,550\n",
       "│    └─Tanh: 2-10                        --\n",
       "│    └─Linear: 2-11                      2,550\n",
       "│    └─Tanh: 2-12                        --\n",
       "│    └─Linear: 2-13                      153\n",
       "=================================================================\n",
       "Total params: 911,004\n",
       "Trainable params: 911,004\n",
       "Non-trainable params: 0\n",
       "================================================================="
      ]
     },
     "execution_count": 5,
     "metadata": {},
     "output_type": "execute_result"
    }
   ],
   "source": [
    "summary(model)"
   ]
  },
  {
   "cell_type": "code",
   "execution_count": 6,
   "id": "834c95b7",
   "metadata": {},
   "outputs": [],
   "source": [
    "if not update_master:\n",
    "    opt = torch.optim.Adam(model.parameters(), lr=defaults.lr, weight_decay=defaults.lambda_)\n",
    "else:\n",
    "    # Cannot update GFN parameters using Adam anymore since we use adaptive method\n",
    "    # and weights can change shape at each iteration\n",
    "    # Similarly, cannot use momentum\n",
    "    opt = torch.optim.SGD(model.parameters(), lr=defaults.lr, weight_decay=defaults.lambda_)"
   ]
  },
  {
   "cell_type": "markdown",
   "id": "d40bd139",
   "metadata": {},
   "source": [
    "# Training"
   ]
  },
  {
   "cell_type": "code",
   "execution_count": 7,
   "id": "a04e245d",
   "metadata": {},
   "outputs": [
    {
     "name": "stdout",
     "output_type": "stream",
     "text": [
      "Training network\n"
     ]
    },
    {
     "name": "stderr",
     "output_type": "stream",
     "text": [
      "100%|██████████| 5000/5000 [1:24:46<00:00,  1.02s/it, Loss(training)=0.00326, Loss(testing)=0.558]\n"
     ]
    },
    {
     "name": "stdout",
     "output_type": "stream",
     "text": [
      "Time elapsed =  5086.668695926666\n"
     ]
    },
    {
     "data": {
      "image/png": "[encoded data removed]",
      "text/plain": [
       "<Figure size 640x480 with 1 Axes>"
      ]
     },
     "metadata": {},
     "output_type": "display_data"
    }
   ],
   "source": [
    "try:\n",
    "    model.load_state_dict(torch.load(\"models/best_model_\"+save_name+\".pt\"))\n",
    "    print(\"Loading saved network\")\n",
    "except FileNotFoundError:\n",
    "    print(\"Training network\")\n",
    "    start = time.time()\n",
    "    train_losses, test_losses = train.train(model, opt, meshes_train, sols_train, params, train_trajs, test_trajs, update_master, defaults.epochs, defaults.mapper_weight, save_name)\n",
    "    end = time.time() - start\n",
    "    print(f\"Time elapsed = \", end)     \n",
    "    model.load_state_dict(torch.load(\"models/best_model_\"+save_name+\".pt\"))\n",
    "    plotting.plot_losses(train_losses, test_losses, save_name)"
   ]
  },
  {
   "cell_type": "markdown",
   "id": "fc201167",
   "metadata": {},
   "source": [
    "# Testing"
   ]
  },
  {
   "cell_type": "code",
   "execution_count": 8,
   "id": "d7c70583",
   "metadata": {},
   "outputs": [
    {
     "name": "stdout",
     "output_type": "stream",
     "text": [
      "----------------------------------------\n",
      "TEST MESH: large\n",
      "\n",
      "Maximum relative error for latent  =  2.7943678453681855\n",
      "Mean relative error for latent =  0.35428176909738807\n",
      "Minimum relative error for latent =  0.01861084468868902\n",
      "\n",
      "Maximum absolute error for field  =  2.5216757344775247\n",
      "Mean absolute error for field  =  0.4497622364814074\n",
      "Minimum absolute error for field  =  0.17607505837045814\n",
      "\n",
      "Maximum relative error for field  =  0.0767223216215519\n",
      "Mean relative error for field  =  0.010266289159360628\n",
      "Minimum relative error for field  =  0.0034896145822478223\n",
      "\n",
      "----------------------------------------\n",
      "TEST MESH: medium\n",
      "\n",
      "Maximum relative error for latent  =  2.8971631900808075\n",
      "Mean relative error for latent =  0.36180099232503854\n",
      "Minimum relative error for latent =  0.017359424148508693\n",
      "\n",
      "Maximum absolute error for field  =  1.4163119766420729\n",
      "Mean absolute error for field  =  0.21745700140835478\n",
      "Minimum absolute error for field  =  0.044436084295758446\n",
      "\n",
      "Maximum relative error for field  =  0.07398915714451954\n",
      "Mean relative error for field  =  0.009025237164067824\n",
      "Minimum relative error for field  =  0.001426718797649492\n",
      "\n",
      "----------------------------------------\n",
      "TEST MESH: small\n",
      "\n",
      "Maximum relative error for latent  =  5.0720198084923\n",
      "Mean relative error for latent =  0.3716799795928642\n",
      "Minimum relative error for latent =  0.010985608060067454\n",
      "\n",
      "Maximum absolute error for field  =  0.8145346273300754\n",
      "Mean absolute error for field  =  0.13428373679707048\n",
      "Minimum absolute error for field  =  0.044928940816531975\n",
      "\n",
      "Maximum relative error for field  =  0.07169277346369049\n",
      "Mean relative error for field  =  0.00947303608313517\n",
      "Minimum relative error for field  =  0.0027544575226924025\n",
      "\n",
      "----------------------------------------\n",
      "TEST MESH: tiny\n",
      "\n",
      "Maximum relative error for latent  =  4.058962687065792\n",
      "Mean relative error for latent =  0.4556618759129333\n",
      "Minimum relative error for latent =  0.01793169752302031\n",
      "\n",
      "Maximum absolute error for field  =  0.4953154333928561\n",
      "Mean absolute error for field  =  0.0793421281612812\n",
      "Minimum absolute error for field  =  0.026203856844759732\n",
      "\n",
      "Maximum relative error for field  =  0.06801772364115945\n",
      "Mean relative error for field  =  0.009217521337532081\n",
      "Minimum relative error for field  =  0.002714257667662851\n",
      "\n"
     ]
    }
   ],
   "source": [
    "for i in range(len(test_fidelities)):\n",
    "    \n",
    "    print('-'*40)\n",
    "    print(f'TEST MESH: {test_fidelities[i]}')\n",
    "    \n",
    "    scale, U = sols_test[i]\n",
    "    U = U.to('cpu')\n",
    "    mesh = meshes_test[i]\n",
    "\n",
    "    model.eval()\n",
    "    model.to('cpu')\n",
    "    \n",
    "    Z, Z_net, x_enc, x_map = test.evaluate_results(model, mesh, U, scale, params.to('cpu'))\n",
    "    error = abs(Z - Z_net)\n",
    "    error, rel_error = test.print_results(Z, Z_net, x_enc, x_map)\n",
    "\n",
    "    np.savetxt('errors/relative_errors_train'+save_name+'_test'+test_fidelities[i]+'.txt', [max(rel_error), sum(rel_error)/len(rel_error), min(rel_error)])\n",
    "    print()"
   ]
  }
 ],
 "metadata": {
  "kernelspec": {
   "display_name": "Python 3 (ipykernel)",
   "language": "python",
   "name": "python3"
  },
  "language_info": {
   "codemirror_mode": {
    "name": "ipython",
    "version": 3
   },
   "file_extension": ".py",
   "mimetype": "text/x-python",
   "name": "python",
   "nbconvert_exporter": "python",
   "pygments_lexer": "ipython3",
   "version": "3.10.14"
  }
 },
 "nbformat": 4,
 "nbformat_minor": 5
}
