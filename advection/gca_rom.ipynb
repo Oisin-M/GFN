{
 "cells": [
  {
   "cell_type": "markdown",
   "id": "b5d906a3",
   "metadata": {},
   "source": [
    "# GCA-ROM\n",
    "\n",
    "This notebook trains the GCA-ROM model (link) and evaluates the performance."
   ]
  },
  {
   "cell_type": "code",
   "execution_count": null,
   "id": "0aea75a2",
   "metadata": {},
   "outputs": [],
   "source": [
    "import torch\n",
    "import torch_geometric\n",
    "import numpy as np\n",
    "from itertools import product\n",
    "\n",
    "import sys\n",
    "sys.path.append('../gca-rom')\n",
    "from gca_rom import network, pde, loader, plotting, preprocessing, training, initialization, testing, error, gui\n",
    "\n",
    "sys.path.append('..')\n",
    "from gfn_rom import defaults"
   ]
  },
  {
   "cell_type": "code",
   "execution_count": null,
   "id": "33f5241a-5f9d-45a2-b8eb-cd78305c0faa",
   "metadata": {},
   "outputs": [],
   "source": [
    "problem_name, variable, mu_space, n_param, dim_pde, n_comp = pde.problem(2)\n",
    "argv = ['advection', 'U', 4, 3, 1, defaults.rate, defaults.latent_size, defaults.mapper_sizes[0], int(n_param*defaults.N_basis_factor), defaults.mapper_weight, 2, n_param, defaults.epochs, n_comp]\n",
    "HyperParams = network.HyperParams(argv)\n",
    "\n",
    "HyperParams.learning_rate = defaults.lr\n",
    "HyperParams.weight_decay = defaults.lambda_\n",
    "HyperParams.seed = defaults.split_seed\n",
    "\n",
    "# load data in batches\n",
    "# If memory issues, reduce batch size\n",
    "HyperParams.batch_size = np.inf\n",
    "\n",
    "# remove early stopping and scheduler\n",
    "HyperParams.tolerance = 0\n",
    "HyperParams.miles = []\n",
    "HyperParams.gamma = 1"
   ]
  },
  {
   "cell_type": "code",
   "execution_count": null,
   "id": "10e5752f-fea6-4a1c-827d-e4e16ca5b453",
   "metadata": {},
   "outputs": [],
   "source": [
    "device = initialization.set_device()\n",
    "initialization.set_reproducibility(HyperParams)\n",
    "initialization.set_path(HyperParams)"
   ]
  },
  {
   "cell_type": "code",
   "execution_count": null,
   "id": "660f5131-5af9-437d-922c-ba29dbaef4e3",
   "metadata": {},
   "outputs": [],
   "source": [
    "dataset_dir = 'data/matrix_large.mat'\n",
    "dataset = loader.LoadDataset(dataset_dir, variable, dim_pde, n_comp)\n",
    "\n",
    "graph_loader, train_loader, test_loader, \\\n",
    "    val_loader, scaler_all, scaler_test, xyz, VAR_all, VAR_test, \\\n",
    "        train_trajectories, test_trajectories = preprocessing.graphs_dataset(dataset, HyperParams)\n",
    "\n",
    "params = torch.tensor(np.array(list(product(*mu_space))))\n",
    "params = params.to(device)"
   ]
  },
  {
   "cell_type": "code",
   "execution_count": null,
   "id": "065d248f-db85-46e5-94ec-4e234d32e98f",
   "metadata": {},
   "outputs": [],
   "source": [
    "HyperParams.seed = defaults.seed\n",
    "initialization.set_reproducibility(HyperParams)\n",
    "\n",
    "model = network.Net(HyperParams)\n",
    "model = model.to(device)\n",
    "optimizer = torch.optim.Adam(model.parameters(), lr=HyperParams.learning_rate, weight_decay=HyperParams.weight_decay)\n",
    "scheduler = torch.optim.lr_scheduler.MultiStepLR(optimizer, milestones=HyperParams.miles, gamma=HyperParams.gamma)"
   ]
  },
  {
   "cell_type": "code",
   "execution_count": null,
   "id": "f7f6d4d2-219a-495e-9c34-20f55b933ac9",
   "metadata": {},
   "outputs": [],
   "source": [
    "try:\n",
    "    model.load_state_dict(torch.load(HyperParams.net_dir+HyperParams.net_name+HyperParams.net_run+'.pt'))\n",
    "    print('Loading saved network')\n",
    "except FileNotFoundError:\n",
    "    print('Training network')\n",
    "    training.train(model, optimizer, device, scheduler, params, train_loader, test_loader, train_trajectories, test_trajectories, HyperParams)"
   ]
  },
  {
   "cell_type": "code",
   "execution_count": null,
   "id": "3bacc460-ce75-434b-a5d4-99a633bffa4b",
   "metadata": {},
   "outputs": [],
   "source": [
    "model.to(\"cpu\")\n",
    "params = params.to(\"cpu\")\n",
    "vars = \"GCA-ROM\"\n",
    "results, latents_map, latents_gca = testing.evaluate(VAR_all, model, graph_loader, params, HyperParams, range(params.shape[0]))"
   ]
  },
  {
   "cell_type": "code",
   "execution_count": null,
   "id": "45c5487a-ab2d-40bc-8a10-09a94596b9ce",
   "metadata": {},
   "outputs": [],
   "source": [
    "error_abs, norm = error.compute_error(results_test, VAR_test, scaler_test, HyperParams)\n",
    "error.print_error(error_abs, norm, vars)\n",
    "error.save_error(error_abs, norm, HyperParams, vars)"
   ]
  }
 ],
 "metadata": {
  "kernelspec": {
   "display_name": "Python 3 (ipykernel)",
   "language": "python",
   "name": "python3"
  },
  "language_info": {
   "codemirror_mode": {
    "name": "ipython",
    "version": 3
   },
   "file_extension": ".py",
   "mimetype": "text/x-python",
   "name": "python",
   "nbconvert_exporter": "python",
   "pygments_lexer": "ipython3",
   "version": "3.10.11"
  }
 },
 "nbformat": 4,
 "nbformat_minor": 5
}
