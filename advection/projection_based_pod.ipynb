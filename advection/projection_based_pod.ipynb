{
 "cells": [
  {
   "cell_type": "markdown",
   "id": "9bfeda38",
   "metadata": {},
   "source": [
    "# Intrusive Projection-Based POD\n",
    "\n",
    "The code for the generation of the approximation of the high-fidelity solutions is provided in `data/data_generation.ipynb` for:\n",
    "- Galerkin-POD (stored in `data/reduced_matrix.npy`)\n",
    "- Projection onto reduced basis (stored in `data/reduced_proj_matrix.npy`)\n",
    "\n",
    "This notebook computes the mean absolute and relative errors of these methods."
   ]
  },
  {
   "cell_type": "markdown",
   "id": "c37edf52",
   "metadata": {},
   "source": [
    "## Find Performances of Intrusive POD-Based Methods\n",
    "\n",
    "We are interested in the absolute and mean relative errors of the speed i.e. magnitude of the velocity $|\\boldsymbol{u}|$."
   ]
  },
  {
   "cell_type": "code",
   "execution_count": 1,
   "id": "dfeef99d",
   "metadata": {},
   "outputs": [],
   "source": [
    "import numpy as np"
   ]
  },
  {
   "cell_type": "code",
   "execution_count": 2,
   "id": "24938bcb",
   "metadata": {},
   "outputs": [],
   "source": [
    "snapshot_matrix = np.load(\"./data/snapshot_matrix_large.npy\")\n",
    "reduced_proj_matrix = np.load(\"./data/reduced_proj_matrix.npy\")\n",
    "reduced_matrix = np.load(\"./data/reduced_matrix.npy\")"
   ]
  },
  {
   "cell_type": "code",
   "execution_count": 3,
   "id": "02e35252",
   "metadata": {},
   "outputs": [],
   "source": [
    "def print_results(Z, Z_approx):\n",
    "    # compute |u| for each parameter and location\n",
    "    Z = Z.T\n",
    "    Z_approx = Z_approx.T\n",
    "    \n",
    "    error_abs_list = list()\n",
    "    norm_z_list = list()\n",
    "    # for each parameter, find the error and norm\n",
    "    for snap in range(Z.shape[1]):\n",
    "        error_abs = np.linalg.norm(abs(Z[:, snap] - Z_approx[:, snap]))\n",
    "        norm_z = np.linalg.norm(Z[:, snap], 2)\n",
    "        error_abs_list.append(error_abs)\n",
    "        norm_z_list.append(norm_z)\n",
    "    \n",
    "    # compute overall error metrics and print\n",
    "    error = np.array(error_abs_list)\n",
    "    norm = np.array(norm_z_list)\n",
    "    rel_error = error/norm\n",
    "    print(\"\\nMaximum absolute error for field \"+\" = \", max(error))\n",
    "    print(\"Mean absolute error for field \"+\" = \", sum(error)/len(error))\n",
    "    print(\"Minimum absolute error for field \"+\" = \", min(error))\n",
    "    print(\"\\nMaximum relative error for field \"+\" = \", max(rel_error))\n",
    "    print(\"Mean relative error for field \"+\" = \", sum(rel_error)/len(rel_error))\n",
    "    print(\"Minimum relative error for field \"+\" = \", min(rel_error))"
   ]
  },
  {
   "cell_type": "code",
   "execution_count": 4,
   "id": "f9d48b29",
   "metadata": {},
   "outputs": [
    {
     "name": "stdout",
     "output_type": "stream",
     "text": [
      "--- POD-Galerkin ---\n",
      "\n",
      "\n",
      "Maximum absolute error for field  =  45.87222012825282\n",
      "Mean absolute error for field  =  13.626235972389207\n",
      "Minimum absolute error for field  =  1.490455668145179\n",
      "\n",
      "Maximum relative error for field  =  0.6867158162902314\n",
      "Mean relative error for field  =  0.2708563388947305\n",
      "Minimum relative error for field  =  0.05147931057771681\n"
     ]
    }
   ],
   "source": [
    "print(\"--- POD-Galerkin ---\\n\")\n",
    "print_results(snapshot_matrix, reduced_matrix)"
   ]
  },
  {
   "cell_type": "code",
   "execution_count": 5,
   "id": "b6626b66",
   "metadata": {},
   "outputs": [
    {
     "name": "stdout",
     "output_type": "stream",
     "text": [
      "--- Projection of HF Solutions onto Reduced Space ---\n",
      "\n",
      "\n",
      "Maximum absolute error for field  =  53.72896957805091\n",
      "Mean absolute error for field  =  13.750882268007667\n",
      "Minimum absolute error for field  =  1.472456772318801\n",
      "\n",
      "Maximum relative error for field  =  0.4998459754893453\n",
      "Mean relative error for field  =  0.25657344010530136\n",
      "Minimum relative error for field  =  0.06573485857806415\n"
     ]
    }
   ],
   "source": [
    "print(\"--- Projection of HF Solutions onto Reduced Space ---\\n\")\n",
    "print_results(snapshot_matrix, reduced_proj_matrix)"
   ]
  }
 ],
 "metadata": {
  "kernelspec": {
   "display_name": "Python 3 (ipykernel)",
   "language": "python",
   "name": "python3"
  },
  "language_info": {
   "codemirror_mode": {
    "name": "ipython",
    "version": 3
   },
   "file_extension": ".py",
   "mimetype": "text/x-python",
   "name": "python",
   "nbconvert_exporter": "python",
   "pygments_lexer": "ipython3",
   "version": "3.10.11"
  }
 },
 "nbformat": 4,
 "nbformat_minor": 5
}
